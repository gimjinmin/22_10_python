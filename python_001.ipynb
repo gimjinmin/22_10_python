{
  "nbformat": 4,
  "nbformat_minor": 0,
  "metadata": {
    "colab": {
      "provenance": [],
      "authorship_tag": "ABX9TyMeCdz6NAiAsga4F9hrs+dw",
      "include_colab_link": true
    },
    "kernelspec": {
      "name": "python3",
      "display_name": "Python 3"
    },
    "language_info": {
      "name": "python"
    }
  },
  "cells": [
    {
      "cell_type": "markdown",
      "metadata": {
        "id": "view-in-github",
        "colab_type": "text"
      },
      "source": [
        "<a href=\"https://colab.research.google.com/github/gimjinmin/22_10_python/blob/main/python_001.ipynb\" target=\"_parent\"><img src=\"https://colab.research.google.com/assets/colab-badge.svg\" alt=\"Open In Colab\"/></a>"
      ]
    },
    {
      "cell_type": "markdown",
      "source": [
        "코렙과 깃헙의 첫번째 연결을 진행합니다."
      ],
      "metadata": {
        "id": "AgwmT5QWlipM"
      }
    },
    {
      "cell_type": "code",
      "source": [
        "print(\"hello github\")\n",
        "print(\"hello python\")"
      ],
      "metadata": {
        "colab": {
          "base_uri": "https://localhost:8080/"
        },
        "id": "WPfrQdQ3m0GC",
        "outputId": "66ed2f34-7e9f-4a32-fabc-a312aadb28b8"
      },
      "execution_count": 2,
      "outputs": [
        {
          "output_type": "stream",
          "name": "stdout",
          "text": [
            "hello github\n",
            "hello python\n"
          ]
        }
      ]
    }
  ]
}